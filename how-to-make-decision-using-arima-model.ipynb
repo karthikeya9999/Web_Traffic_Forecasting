{
 "cells": [
  {
   "cell_type": "code",
   "execution_count": null,
   "metadata": {
    "_cell_guid": "b1076dfc-b9ad-4769-8c92-a6c4dae69d19",
    "_uuid": "8f2839f25d086af736a60e9eeb907d3b93b6e0e5",
    "execution": {
     "iopub.execute_input": "2023-01-14T04:23:14.41307Z",
     "iopub.status.busy": "2023-01-14T04:23:14.412553Z",
     "iopub.status.idle": "2023-01-14T04:23:14.422272Z",
     "shell.execute_reply": "2023-01-14T04:23:14.421066Z",
     "shell.execute_reply.started": "2023-01-14T04:23:14.41303Z"
    }
   },
   "outputs": [],
   "source": [
    "# This Python 3 environment comes with many helpful analytics libraries installed\n",
    "# It is defined by the kaggle/python Docker image: https://github.com/kaggle/docker-python\n",
    "# For example, here's several helpful packages to load\n",
    "\n",
    "import numpy as np # linear algebra\n",
    "import pandas as pd # data processing, CSV file I/O (e.g. pd.read_csv)\n",
    "\n",
    "# Input data files are available in the read-only \"../input/\" directory\n",
    "# For example, running this (by clicking run or pressing Shift+Enter) will list all files under the input directory\n",
    "\n",
    "import os\n",
    "for dirname, _, filenames in os.walk('web-traffic-time-series-forecasting/'):\n",
    "    for filename in filenames:\n",
    "        print(os.path.join(dirname, filename))\n",
    "\n",
    "# You can write up to 20GB to the current directory (/kaggle/working/) that gets preserved as output when you create a version using \"Save & Run All\" \n",
    "# You can also write temporary files to /kaggle/temp/, but they won't be saved outside of the current session"
   ]
  },
  {
   "cell_type": "code",
   "execution_count": 2,
   "metadata": {
    "execution": {
     "iopub.execute_input": "2023-01-14T04:23:14.424667Z",
     "iopub.status.busy": "2023-01-14T04:23:14.424314Z",
     "iopub.status.idle": "2023-01-14T04:23:30.981714Z",
     "shell.execute_reply": "2023-01-14T04:23:30.980306Z",
     "shell.execute_reply.started": "2023-01-14T04:23:14.424634Z"
    }
   },
   "outputs": [],
   "source": [
    "train_df = pd.read_csv(\"C:/Users/Lenovo/Desktop/Web project/train_2.csv\")\n",
    "train_df = train_df.dropna()"
   ]
  },
  {
   "cell_type": "code",
   "execution_count": 4,
   "metadata": {},
   "outputs": [
    {
     "name": "stderr",
     "output_type": "stream",
     "text": [
      "C:\\Users\\Lenovo\\AppData\\Local\\Temp\\ipykernel_20160\\1795081665.py:2: FutureWarning: The default value of regex will change from True to False in a future version.\n",
      "  page_names = train_df['Page'].str.replace('.wikipedia.org_all-access_spider', '')\n"
     ]
    }
   ],
   "source": [
    "\n",
    "# Extract 'Page' names and remove the specified part\n",
    "page_names = train_df['Page'].str.replace('.wikipedia.org_all-access_spider', '')\n",
    "\n",
    "# Create a new DataFrame with the modified 'Page' names\n",
    "result_df = pd.DataFrame({'Modified_Page': page_names})\n",
    "\n",
    "# Save the new DataFrame to a CSV file\n",
    "result_df.to_csv('C:/Users/Lenovo/Desktop/Web project/page_names.csv', index=False)"
   ]
  },
  {
   "cell_type": "code",
   "execution_count": 5,
   "metadata": {
    "execution": {
     "iopub.execute_input": "2023-01-14T04:23:30.984125Z",
     "iopub.status.busy": "2023-01-14T04:23:30.983672Z",
     "iopub.status.idle": "2023-01-14T04:24:20.773306Z",
     "shell.execute_reply": "2023-01-14T04:24:20.77211Z",
     "shell.execute_reply.started": "2023-01-14T04:23:30.984091Z"
    }
   },
   "outputs": [],
   "source": [
    "train_df = pd.melt(train_df[list(train_df.columns[-100:]) + ['Page']], id_vars='Page', var_name='date', value_name='Visits')\n",
    "\n",
    "train_df['date'] = train_df['date'].astype('datetime64[ns]')\n",
    "\n",
    "train_df['weekday'] = train_df['date'].apply(lambda x: x.weekday())"
   ]
  },
  {
   "cell_type": "code",
   "execution_count": 6,
   "metadata": {
    "execution": {
     "iopub.execute_input": "2023-01-14T04:24:20.774997Z",
     "iopub.status.busy": "2023-01-14T04:24:20.774561Z",
     "iopub.status.idle": "2023-01-14T04:24:20.794603Z",
     "shell.execute_reply": "2023-01-14T04:24:20.793087Z",
     "shell.execute_reply.started": "2023-01-14T04:24:20.774966Z"
    }
   },
   "outputs": [
    {
     "data": {
      "text/html": [
       "<div>\n",
       "<style scoped>\n",
       "    .dataframe tbody tr th:only-of-type {\n",
       "        vertical-align: middle;\n",
       "    }\n",
       "\n",
       "    .dataframe tbody tr th {\n",
       "        vertical-align: top;\n",
       "    }\n",
       "\n",
       "    .dataframe thead th {\n",
       "        text-align: right;\n",
       "    }\n",
       "</style>\n",
       "<table border=\"1\" class=\"dataframe\">\n",
       "  <thead>\n",
       "    <tr style=\"text-align: right;\">\n",
       "      <th></th>\n",
       "      <th>Page</th>\n",
       "      <th>date</th>\n",
       "      <th>Visits</th>\n",
       "      <th>weekday</th>\n",
       "    </tr>\n",
       "  </thead>\n",
       "  <tbody>\n",
       "    <tr>\n",
       "      <th>0</th>\n",
       "      <td>2NE1_zh.wikipedia.org_all-access_spider</td>\n",
       "      <td>2017-06-03</td>\n",
       "      <td>30.0</td>\n",
       "      <td>5</td>\n",
       "    </tr>\n",
       "    <tr>\n",
       "      <th>1</th>\n",
       "      <td>2PM_zh.wikipedia.org_all-access_spider</td>\n",
       "      <td>2017-06-03</td>\n",
       "      <td>31.0</td>\n",
       "      <td>5</td>\n",
       "    </tr>\n",
       "    <tr>\n",
       "      <th>2</th>\n",
       "      <td>3C_zh.wikipedia.org_all-access_spider</td>\n",
       "      <td>2017-06-03</td>\n",
       "      <td>4.0</td>\n",
       "      <td>5</td>\n",
       "    </tr>\n",
       "    <tr>\n",
       "      <th>3</th>\n",
       "      <td>4minute_zh.wikipedia.org_all-access_spider</td>\n",
       "      <td>2017-06-03</td>\n",
       "      <td>14.0</td>\n",
       "      <td>5</td>\n",
       "    </tr>\n",
       "    <tr>\n",
       "      <th>4</th>\n",
       "      <td>5566_zh.wikipedia.org_all-access_spider</td>\n",
       "      <td>2017-06-03</td>\n",
       "      <td>34.0</td>\n",
       "      <td>5</td>\n",
       "    </tr>\n",
       "    <tr>\n",
       "      <th>...</th>\n",
       "      <td>...</td>\n",
       "      <td>...</td>\n",
       "      <td>...</td>\n",
       "      <td>...</td>\n",
       "    </tr>\n",
       "    <tr>\n",
       "      <th>11508395</th>\n",
       "      <td>Chichén_Itzá_es.wikipedia.org_all-access_spider</td>\n",
       "      <td>2017-09-10</td>\n",
       "      <td>5.0</td>\n",
       "      <td>6</td>\n",
       "    </tr>\n",
       "    <tr>\n",
       "      <th>11508396</th>\n",
       "      <td>Fecundación_es.wikipedia.org_all-access_spider</td>\n",
       "      <td>2017-09-10</td>\n",
       "      <td>39.0</td>\n",
       "      <td>6</td>\n",
       "    </tr>\n",
       "    <tr>\n",
       "      <th>11508397</th>\n",
       "      <td>Gran_Hermano_VIP_(España)_es.wikipedia.org_all...</td>\n",
       "      <td>2017-09-10</td>\n",
       "      <td>7.0</td>\n",
       "      <td>6</td>\n",
       "    </tr>\n",
       "    <tr>\n",
       "      <th>11508398</th>\n",
       "      <td>Modelo_atómico_de_Thomson_es.wikipedia.org_all...</td>\n",
       "      <td>2017-09-10</td>\n",
       "      <td>26.0</td>\n",
       "      <td>6</td>\n",
       "    </tr>\n",
       "    <tr>\n",
       "      <th>11508399</th>\n",
       "      <td>Copa_América_2019_es.wikipedia.org_all-access_...</td>\n",
       "      <td>2017-09-10</td>\n",
       "      <td>2.0</td>\n",
       "      <td>6</td>\n",
       "    </tr>\n",
       "  </tbody>\n",
       "</table>\n",
       "<p>11508400 rows × 4 columns</p>\n",
       "</div>"
      ],
      "text/plain": [
       "                                                       Page       date  \\\n",
       "0                   2NE1_zh.wikipedia.org_all-access_spider 2017-06-03   \n",
       "1                    2PM_zh.wikipedia.org_all-access_spider 2017-06-03   \n",
       "2                     3C_zh.wikipedia.org_all-access_spider 2017-06-03   \n",
       "3                4minute_zh.wikipedia.org_all-access_spider 2017-06-03   \n",
       "4                   5566_zh.wikipedia.org_all-access_spider 2017-06-03   \n",
       "...                                                     ...        ...   \n",
       "11508395    Chichén_Itzá_es.wikipedia.org_all-access_spider 2017-09-10   \n",
       "11508396     Fecundación_es.wikipedia.org_all-access_spider 2017-09-10   \n",
       "11508397  Gran_Hermano_VIP_(España)_es.wikipedia.org_all... 2017-09-10   \n",
       "11508398  Modelo_atómico_de_Thomson_es.wikipedia.org_all... 2017-09-10   \n",
       "11508399  Copa_América_2019_es.wikipedia.org_all-access_... 2017-09-10   \n",
       "\n",
       "          Visits  weekday  \n",
       "0           30.0        5  \n",
       "1           31.0        5  \n",
       "2            4.0        5  \n",
       "3           14.0        5  \n",
       "4           34.0        5  \n",
       "...          ...      ...  \n",
       "11508395     5.0        6  \n",
       "11508396    39.0        6  \n",
       "11508397     7.0        6  \n",
       "11508398    26.0        6  \n",
       "11508399     2.0        6  \n",
       "\n",
       "[11508400 rows x 4 columns]"
      ]
     },
     "execution_count": 6,
     "metadata": {},
     "output_type": "execute_result"
    }
   ],
   "source": [
    "train_df"
   ]
  },
  {
   "cell_type": "code",
   "execution_count": null,
   "metadata": {},
   "outputs": [],
   "source": [
    "# Get user input for the date\n",
    "user_date = input(\"Enter the date (in the format 'YYYY-MM-DD'): \")\n",
    "\n",
    "# Filter the DataFrame for the specified date and visits greater than 0\n",
    "selected_date_df = train_df[(train_df['date'] == user_date) & (train_df['Visits'] > 0)]\n",
    "\n",
    "# Find the row with the minimum visits and the row with the maximum visits\n",
    "min_visits_row = selected_date_df.loc[selected_date_df['Visits'].idxmin()]\n",
    "max_visits_row = selected_date_df.loc[selected_date_df['Visits'].idxmax()]\n",
    "\n",
    "# Display the result\n",
    "print(f\"\\nFor the date {user_date}:\")\n",
    "print(\"Least Visited Page:\")\n",
    "print(f\"Page: {min_visits_row['Page']}, Visits: {min_visits_row['Visits']}\")\n",
    "\n",
    "print(\"\\nMost Visited Page:\")\n",
    "print(f\"Page: {max_visits_row['Page']}, Visits: {max_visits_row['Visits']}\")\n"
   ]
  },
  {
   "cell_type": "code",
   "execution_count": null,
   "metadata": {},
   "outputs": [],
   "source": [
    "train_df[::-1]"
   ]
  },
  {
   "cell_type": "code",
   "execution_count": null,
   "metadata": {
    "execution": {
     "iopub.execute_input": "2023-01-14T04:24:20.800377Z",
     "iopub.status.busy": "2023-01-14T04:24:20.799996Z",
     "iopub.status.idle": "2023-01-14T04:24:21.050253Z",
     "shell.execute_reply": "2023-01-14T04:24:21.048596Z",
     "shell.execute_reply.started": "2023-01-14T04:24:20.800342Z"
    }
   },
   "outputs": [],
   "source": [
    "df = train_df.groupby(['date']).agg({'Visits':'sum'}).rename(columns={'Visits':'visit'})"
   ]
  },
  {
   "cell_type": "code",
   "execution_count": null,
   "metadata": {
    "execution": {
     "iopub.execute_input": "2023-01-14T04:29:27.482152Z",
     "iopub.status.busy": "2023-01-14T04:29:27.48085Z",
     "iopub.status.idle": "2023-01-14T04:29:27.497161Z",
     "shell.execute_reply": "2023-01-14T04:29:27.495811Z",
     "shell.execute_reply.started": "2023-01-14T04:29:27.482108Z"
    }
   },
   "outputs": [],
   "source": [
    "df"
   ]
  },
  {
   "cell_type": "markdown",
   "metadata": {},
   "source": [
    "## ACF, PACF Plot"
   ]
  },
  {
   "cell_type": "code",
   "execution_count": null,
   "metadata": {
    "execution": {
     "iopub.execute_input": "2023-01-14T04:24:31.955266Z",
     "iopub.status.busy": "2023-01-14T04:24:31.95481Z",
     "iopub.status.idle": "2023-01-14T04:24:47.935123Z",
     "shell.execute_reply": "2023-01-14T04:24:47.933195Z",
     "shell.execute_reply.started": "2023-01-14T04:24:31.955233Z"
    }
   },
   "outputs": [],
   "source": [
    "!pip install pmdarima\n",
    "import statsmodels.api as sm\n",
    "import matplotlib.pyplot as plt\n",
    "from statsmodels.graphics.tsaplots import plot_acf,  plot_pacf\n",
    "from statsmodels.tsa.arima_model import ARIMA\n",
    "from statsmodels.tsa.statespace.sarimax import SARIMAX\n",
    "from pmdarima.arima import auto_arima"
   ]
  },
  {
   "cell_type": "code",
   "execution_count": null,
   "metadata": {
    "execution": {
     "iopub.execute_input": "2023-01-14T04:25:33.979441Z",
     "iopub.status.busy": "2023-01-14T04:25:33.978967Z",
     "iopub.status.idle": "2023-01-14T04:25:33.988475Z",
     "shell.execute_reply": "2023-01-14T04:25:33.987171Z",
     "shell.execute_reply.started": "2023-01-14T04:25:33.979403Z"
    }
   },
   "outputs": [],
   "source": [
    "from sklearn.model_selection import train_test_split \n",
    "train_df, test_df = train_test_split(df, test_size = 0.2, shuffle=False)"
   ]
  },
  {
   "cell_type": "code",
   "execution_count": null,
   "metadata": {},
   "outputs": [],
   "source": [
    "test_df.to_csv(\"testdf.csv\",index=False)"
   ]
  },
  {
   "cell_type": "code",
   "execution_count": null,
   "metadata": {},
   "outputs": [],
   "source": [
    "train_df.to_csv(\"traindf.csv\",index=False)"
   ]
  },
  {
   "cell_type": "code",
   "execution_count": null,
   "metadata": {
    "execution": {
     "iopub.execute_input": "2023-01-14T04:25:34.532758Z",
     "iopub.status.busy": "2023-01-14T04:25:34.532345Z",
     "iopub.status.idle": "2023-01-14T04:25:35.506653Z",
     "shell.execute_reply": "2023-01-14T04:25:35.505774Z",
     "shell.execute_reply.started": "2023-01-14T04:25:34.532724Z"
    }
   },
   "outputs": [],
   "source": [
    "decomposition = sm.tsa.seasonal_decompose(df, model='multiplicative')\n",
    "\n",
    "trend = decomposition.trend\n",
    "seasonal = decomposition.seasonal\n",
    "residual = decomposition.resid\n",
    "fig, axes = plt.subplots(4, 1, figsize=(20, 20))\n",
    "axes[0].plot(df, label='page visits')\n",
    "axes[0].grid()\n",
    "axes[0].legend(loc='upper right')\n",
    "axes[1].plot(trend, label='Trend')\n",
    "axes[1].grid()\n",
    "axes[1].legend(loc='upper right')\n",
    "axes[2].plot(seasonal, label='Seasonal')\n",
    "axes[2].grid()\n",
    "axes[2].legend(loc='upper right')\n",
    "axes[3].plot(residual, label='Residuals')\n",
    "axes[3].grid()\n",
    "axes[3].legend(loc='upper right')\n"
   ]
  },
  {
   "cell_type": "code",
   "execution_count": null,
   "metadata": {
    "execution": {
     "iopub.execute_input": "2023-01-14T04:25:35.51144Z",
     "iopub.status.busy": "2023-01-14T04:25:35.510908Z",
     "iopub.status.idle": "2023-01-14T04:25:36.106383Z",
     "shell.execute_reply": "2023-01-14T04:25:36.105182Z",
     "shell.execute_reply.started": "2023-01-14T04:25:35.511363Z"
    }
   },
   "outputs": [],
   "source": [
    "fig, ax = plt.subplots(1, 2, figsize=(10, 5))\n",
    "fig.suptitle('Raw Data')\n",
    "\n",
    "sm.graphics.tsa.plot_acf(train_df.values.squeeze(), lags=30, ax=ax[0])\n",
    "sm.graphics.tsa.plot_pacf(train_df.values.squeeze(), lags=30, ax=ax[1])\n"
   ]
  },
  {
   "cell_type": "markdown",
   "metadata": {},
   "source": [
    "## Autocorrelation\n",
    "- slowly decrease shape of sin graph\n",
    "- it's typically seasonal non-stationary timeseries's autocorrelation\n",
    "- so we need to diff the data"
   ]
  },
  {
   "cell_type": "code",
   "execution_count": null,
   "metadata": {
    "execution": {
     "iopub.execute_input": "2023-01-14T04:25:36.912679Z",
     "iopub.status.busy": "2023-01-14T04:25:36.912257Z",
     "iopub.status.idle": "2023-01-14T04:25:36.930514Z",
     "shell.execute_reply": "2023-01-14T04:25:36.929569Z",
     "shell.execute_reply.started": "2023-01-14T04:25:36.912645Z"
    }
   },
   "outputs": [],
   "source": [
    "# 1 differencing\n",
    "diff_train_df = train_df.copy()\n",
    "diff_train_df = diff_train_df.visit.diff()\n",
    "diff_train_df = diff_train_df.dropna()\n",
    "diff_train_df.columns =['visit']\n",
    "diff_train_df"
   ]
  },
  {
   "cell_type": "code",
   "execution_count": null,
   "metadata": {
    "execution": {
     "iopub.execute_input": "2023-01-14T04:25:37.429048Z",
     "iopub.status.busy": "2023-01-14T04:25:37.428041Z",
     "iopub.status.idle": "2023-01-14T04:25:37.849675Z",
     "shell.execute_reply": "2023-01-14T04:25:37.848591Z",
     "shell.execute_reply.started": "2023-01-14T04:25:37.429008Z"
    }
   },
   "outputs": [],
   "source": [
    "fig, axes = plt.subplots(2, 1, figsize=(12, 8))\n",
    "\n",
    "\n",
    "axes[0].plot(train_df.visit, label='visit')\n",
    "axes[1].plot(diff_train_df, 'orange', label='diff_1 visit')\n",
    "\n",
    "axes[0].grid()\n",
    "axes[1].grid()\n",
    "axes[0].legend(loc='upper left')\n",
    "axes[1].legend(loc='upper left')"
   ]
  },
  {
   "cell_type": "markdown",
   "metadata": {},
   "source": [
    "- diff_1 visit data look like more stationary than origin visit data\n",
    "- let's plot acf, pacf chart of diff_1 visit data"
   ]
  },
  {
   "cell_type": "code",
   "execution_count": null,
   "metadata": {
    "execution": {
     "iopub.execute_input": "2023-01-14T04:25:38.714436Z",
     "iopub.status.busy": "2023-01-14T04:25:38.713724Z",
     "iopub.status.idle": "2023-01-14T04:25:39.099709Z",
     "shell.execute_reply": "2023-01-14T04:25:39.098333Z",
     "shell.execute_reply.started": "2023-01-14T04:25:38.714393Z"
    }
   },
   "outputs": [],
   "source": [
    "def test_stationary(df):\n",
    "    fig, axes = plt.subplots(2, 1, figsize=(10,5))\n",
    "    rolling_mean = df['visit'].rolling(7).mean()\n",
    "    rolling_std = df['visit'].rolling(7).std()\n",
    "    \n",
    "    axes[0].plot(df['visit'], color='blue', label= 'origin')\n",
    "    axes[0].plot(rolling_mean, color='red', label='Rolling Mean')\n",
    "    axes[1].plot(rolling_std, color='black', label='Rolling Std')\n",
    "    axes[0].grid(True)\n",
    "    axes[1].grid(True)\n",
    "    \n",
    "    dftest = sm.tsa.adfuller(df['visit'], autolag='AIC')\n",
    "    dfoutput = pd.Series(dftest[0:4], index=['Test Statistic', 'p-value', 'Lags Used', '# of observation used'])\n",
    "    for k, v in dftest[4].items():\n",
    "        dfoutput[f'Critical Value {k}'] = v\n",
    "    print(dfoutput)\n",
    "    \n",
    "    \n",
    "test_stationary(train_df)"
   ]
  },
  {
   "cell_type": "code",
   "execution_count": null,
   "metadata": {},
   "outputs": [],
   "source": [
    "test_df.index"
   ]
  },
  {
   "cell_type": "code",
   "execution_count": null,
   "metadata": {
    "execution": {
     "iopub.execute_input": "2023-01-14T04:25:39.445538Z",
     "iopub.status.busy": "2023-01-14T04:25:39.444391Z",
     "iopub.status.idle": "2023-01-14T04:25:39.977431Z",
     "shell.execute_reply": "2023-01-14T04:25:39.976082Z",
     "shell.execute_reply.started": "2023-01-14T04:25:39.445482Z"
    }
   },
   "outputs": [],
   "source": [
    "fig, axes = plt.subplots(nrows=1, ncols=2)\n",
    "# fig.suptitle('Diff 1 Visit')\n",
    "sm.graphics.tsa.plot_acf(diff_train_df.values.squeeze(), lags=30, ax=ax[0])\n",
    "sm.graphics.tsa.plot_pacf(diff_train_df.values.squeeze(), lags=30, ax=ax[1])\n",
    "# statsmodel pacf plot function has issue plot chart twice  "
   ]
  },
  {
   "cell_type": "markdown",
   "metadata": {},
   "source": [
    "## How to set p, d, q ARIMA Model Value in this case, using Graphical Method\n",
    "- In ACF Chart, values are die out shape of sine-function graph => Choose AR Model\n",
    "- In partial ACF chart, cut off after lag of p, in this case 3 is laf value make cuf off below 0 => set p = 3 \n",
    "- we use diff_1 visit value, so d = 1\n",
    "- we do not use MA model in this case (MA Model is chosen when ACF Chart look like cut off after `q` lag)\n",
    "    - so q = 0\n",
    "- so, we use ARIMA(3, 1, 0) Model\n"
   ]
  },
  {
   "cell_type": "code",
   "execution_count": null,
   "metadata": {
    "execution": {
     "iopub.execute_input": "2023-01-14T04:25:41.145692Z",
     "iopub.status.busy": "2023-01-14T04:25:41.145264Z",
     "iopub.status.idle": "2023-01-14T04:25:41.333432Z",
     "shell.execute_reply": "2023-01-14T04:25:41.332062Z",
     "shell.execute_reply.started": "2023-01-14T04:25:41.145655Z"
    }
   },
   "outputs": [],
   "source": [
    "from statsmodels.tsa.arima.model import ARIMA\n",
    "\n",
    "model = ARIMA(train_df.values, order=(2, 1, 2))\n",
    "model_fit = model.fit()\n",
    "model_fit.summary()"
   ]
  },
  {
   "cell_type": "markdown",
   "metadata": {},
   "source": [
    "- ARIMA(3, 1, 0) has very high p-value\n",
    "- let's diagnose arima pdq value"
   ]
  },
  {
   "cell_type": "code",
   "execution_count": null,
   "metadata": {
    "execution": {
     "iopub.execute_input": "2023-01-14T04:25:42.834923Z",
     "iopub.status.busy": "2023-01-14T04:25:42.834483Z",
     "iopub.status.idle": "2023-01-14T04:25:44.135346Z",
     "shell.execute_reply": "2023-01-14T04:25:44.134018Z",
     "shell.execute_reply.started": "2023-01-14T04:25:42.834886Z"
    }
   },
   "outputs": [],
   "source": [
    "import itertools\n",
    "p = range(0, 3)\n",
    "d = range(1, 3)\n",
    "q = range(0, 3)\n",
    "\n",
    "pdq = list(itertools.product(p, d, q))\n",
    "\n",
    "aic = []\n",
    "for i in pdq:\n",
    "    model = ARIMA(train_df.values, order=(i))\n",
    "    model_fit = model.fit()\n",
    "    print(f'ARIMA({i}) AIC : {round(model_fit.aic,2)}')\n",
    "    aic.append(round(model_fit.aic, 2))"
   ]
  },
  {
   "cell_type": "code",
   "execution_count": null,
   "metadata": {
    "execution": {
     "iopub.execute_input": "2023-01-14T04:25:44.138621Z",
     "iopub.status.busy": "2023-01-14T04:25:44.137843Z",
     "iopub.status.idle": "2023-01-14T04:25:44.398032Z",
     "shell.execute_reply": "2023-01-14T04:25:44.396853Z",
     "shell.execute_reply.started": "2023-01-14T04:25:44.138573Z"
    }
   },
   "outputs": [],
   "source": [
    "# ARIMA((2, 1, 2)) is best aic\n",
    "\n",
    "model = ARIMA(train_df.values, order=(2, 2, 1))\n",
    "model_fit = model.fit()\n",
    "model_fit.summary()"
   ]
  },
  {
   "cell_type": "code",
   "execution_count": null,
   "metadata": {},
   "outputs": [],
   "source": []
  },
  {
   "cell_type": "markdown",
   "metadata": {},
   "source": [
    "- ARIMA(2, 1, 2) model has good p-value\n",
    "- let's predict test_df's visit data"
   ]
  },
  {
   "cell_type": "code",
   "execution_count": null,
   "metadata": {
    "execution": {
     "iopub.execute_input": "2023-01-14T04:25:45.013362Z",
     "iopub.status.busy": "2023-01-14T04:25:45.01298Z",
     "iopub.status.idle": "2023-01-14T04:25:45.023589Z",
     "shell.execute_reply": "2023-01-14T04:25:45.022275Z",
     "shell.execute_reply.started": "2023-01-14T04:25:45.013332Z"
    }
   },
   "outputs": [],
   "source": [
    "prediction = model_fit.forecast(len(test_df))\n",
    "prediction_value = prediction\n",
    "prediction_index = list(test_df.index)\n"
   ]
  },
  {
   "cell_type": "code",
   "execution_count": null,
   "metadata": {
    "execution": {
     "iopub.execute_input": "2023-01-14T04:25:45.554798Z",
     "iopub.status.busy": "2023-01-14T04:25:45.554388Z",
     "iopub.status.idle": "2023-01-14T04:25:45.884237Z",
     "shell.execute_reply": "2023-01-14T04:25:45.883013Z",
     "shell.execute_reply.started": "2023-01-14T04:25:45.554767Z"
    }
   },
   "outputs": [],
   "source": [
    "fig, axes = plt.subplots(figsize=(20, 14))\n",
    "\n",
    "\n",
    "axes.plot(train_df)\n",
    "axes.plot(prediction_index, prediction_value,color='r', label='Prediction')\n",
    "axes.plot(test_df, linestyle='--', color='orange', label='Real Visit Data')\n",
    "axes.legend(loc='upper left')\n",
    "axes.grid()"
   ]
  },
  {
   "cell_type": "markdown",
   "metadata": {},
   "source": []
  },
  {
   "cell_type": "markdown",
   "metadata": {
    "execution": {
     "iopub.execute_input": "2023-01-12T15:26:53.407587Z",
     "iopub.status.busy": "2023-01-12T15:26:53.407174Z",
     "iopub.status.idle": "2023-01-12T15:26:53.415509Z",
     "shell.execute_reply": "2023-01-12T15:26:53.414243Z",
     "shell.execute_reply.started": "2023-01-12T15:26:53.407549Z"
    }
   },
   "source": [
    "- Let's Make bigger P, Q Value\n",
    "- ARIMA(7, 1, 7)"
   ]
  },
  {
   "cell_type": "code",
   "execution_count": null,
   "metadata": {
    "execution": {
     "iopub.execute_input": "2023-01-14T04:25:46.729624Z",
     "iopub.status.busy": "2023-01-14T04:25:46.728767Z",
     "iopub.status.idle": "2023-01-14T04:25:49.053213Z",
     "shell.execute_reply": "2023-01-14T04:25:49.052038Z",
     "shell.execute_reply.started": "2023-01-14T04:25:46.729586Z"
    },
    "scrolled": true
   },
   "outputs": [],
   "source": [
    "import pandas as pd\n",
    "import matplotlib.pyplot as plt\n",
    "from statsmodels.tsa.arima.model import ARIMA\n",
    "\n",
    "# Assuming your data frame has a datetime index\n",
    "start_date = input(\"Enter start date (yyyy-mm-dd): \")\n",
    "end_date = input(\"Enter end date (yyyy-mm-dd): \")\n",
    "\n",
    "# Convert input strings to datetime objects\n",
    "start_date = pd.to_datetime(start_date)\n",
    "end_date = pd.to_datetime(end_date)\n",
    "\n",
    "# Filter data based on user input\n",
    "train_df_filtered = train_df[(train_df.index >= start_date) & (train_df.index <= end_date)]\n",
    "\n",
    "# Fit ARIMA model\n",
    "model = ARIMA(train_df_filtered, order=(7, 1, 7))\n",
    "model_fit = model.fit()\n",
    "\n",
    "# Plotting\n",
    "fig, axes = plt.subplots(figsize=(15, 8))\n",
    "axes.plot(train_df_filtered, label='page visit')\n",
    "axes.plot(model_fit.fittedvalues[2:], label='predict')\n",
    "axes.plot(pd.DataFrame(model_fit.forecast(steps=len(test_df))), label='predict', color='red', linestyle='--')\n",
    "\n",
    "axes.set_xlim([start_date, end_date])\n",
    "\n",
    "plt.xlabel(\"Date\")\n",
    "axes.grid()\n",
    "axes.legend()\n",
    "\n",
    "plt.show()\n"
   ]
  },
  {
   "cell_type": "code",
   "execution_count": null,
   "metadata": {},
   "outputs": [],
   "source": [
    "len(test_df)"
   ]
  },
  {
   "cell_type": "code",
   "execution_count": null,
   "metadata": {},
   "outputs": [],
   "source": [
    "import pickle\n",
    "\n",
    "with open(\"webtraffic.pkl\",\"wb\") as file:\n",
    "    pickle.dump(model_fit,file)"
   ]
  },
  {
   "cell_type": "code",
   "execution_count": null,
   "metadata": {},
   "outputs": [],
   "source": [
    "print(test_df.index)"
   ]
  }
 ],
 "metadata": {
  "kaggle": {
   "accelerator": "none",
   "dataSources": [
    {
     "databundleVersionId": 44342,
     "sourceId": 6768,
     "sourceType": "competition"
    }
   ],
   "dockerImageVersionId": 30357,
   "isGpuEnabled": false,
   "isInternetEnabled": true,
   "language": "python",
   "sourceType": "notebook"
  },
  "kernelspec": {
   "display_name": "Python 3 (ipykernel)",
   "language": "python",
   "name": "python3"
  },
  "language_info": {
   "codemirror_mode": {
    "name": "ipython",
    "version": 3
   },
   "file_extension": ".py",
   "mimetype": "text/x-python",
   "name": "python",
   "nbconvert_exporter": "python",
   "pygments_lexer": "ipython3",
   "version": "3.9.12"
  }
 },
 "nbformat": 4,
 "nbformat_minor": 4
}
